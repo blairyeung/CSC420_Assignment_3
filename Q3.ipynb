{
 "cells": [
  {
   "cell_type": "markdown",
   "source": [
    "# CSC420 Assignment 3 Question 3"
   ],
   "metadata": {
    "collapsed": false
   }
  },
  {
   "cell_type": "markdown",
   "source": [
    "## Step 0: Preparation"
   ],
   "metadata": {
    "collapsed": false,
    "pycharm": {
     "name": "#%% md\n"
    }
   }
  },
  {
   "cell_type": "markdown",
   "source": [
    "### Step 0.0: Import packages and images"
   ],
   "metadata": {
    "collapsed": false,
    "pycharm": {
     "name": "#%% md\n"
    }
   }
  },
  {
   "cell_type": "code",
   "execution_count": 13,
   "outputs": [],
   "source": [
    "import matplotlib.pyplot as plt\n",
    "import scipy\n",
    "import cv2\n",
    "import numpy as np\n",
    "import math\n",
    "from scipy.special import softmax"
   ],
   "metadata": {
    "collapsed": false,
    "pycharm": {
     "name": "#%%\n"
    }
   }
  },
  {
   "cell_type": "markdown",
   "source": [
    "### Step 0.1 Import images"
   ],
   "metadata": {
    "collapsed": false,
    "pycharm": {
     "name": "#%% md\n"
    }
   }
  },
  {
   "cell_type": "code",
   "execution_count": 14,
   "outputs": [],
   "source": [
    "def get_image(path):\n",
    "    raw_image = cv2.imread(path, cv2.IMREAD_GRAYSCALE)\n",
    "    croped_image = np.asarray(cv2.resize(raw_image, (900, 1200), interpolation = cv2.INTER_AREA))\n",
    "    plt.imshow(croped_image, cmap=plt.get_cmap('gray'), vmin=0, vmax=255)\n",
    "    plt.imshow\n",
    "    return croped_image"
   ],
   "metadata": {
    "collapsed": false,
    "pycharm": {
     "name": "#%%\n"
    }
   }
  },
  {
   "cell_type": "code",
   "execution_count": 15,
   "outputs": [],
   "source": [
    "def get_gradient(image):\n",
    "    sobelx = np.array(cv2.Sobel(image, cv2.CV_64F, 1, 0, ksize=3))\n",
    "    sobely = np.array(cv2.Sobel(image, cv2.CV_64F, 0, 1, ksize=3))\n",
    "    gradient = np.array([sobelx, sobely])\n",
    "    gradient = gradient.transpose(1, 2, 0)\n",
    "    gradient_magnitude = np.sqrt(sobelx * sobelx + sobely * sobely)\n",
    "    print(gradient.shape, gradient_magnitude.shape)\n",
    "    return gradient, gradient_magnitude"
   ],
   "metadata": {
    "collapsed": false,
    "pycharm": {
     "name": "#%%\n"
    }
   }
  },
  {
   "cell_type": "code",
   "execution_count": 16,
   "outputs": [],
   "source": [
    "def clip_and_count(gradient, threshold=70):\n",
    "    flags = 0 * np.ones(shape=(gradient.shape[0], gradient.shape[1]), dtype=int)\n",
    "    height = gradient.shape[0]\n",
    "    width = gradient.shape[1]\n",
    "    groups = []\n",
    "    for h in range(height):\n",
    "        for w in range(width):\n",
    "            magnitude = np.linalg.norm(gradient[h][w])\n",
    "            if magnitude >= threshold:\n",
    "                ratio = np.divide(gradient[h][w][0], gradient[h][w][1],\n",
    "                                  out=np.zeros_like(gradient[h][w][0]), where=gradient[h][w][1]!=0)\n",
    "                direction = (np.arctan(ratio) * 180 / math.pi)\n",
    "                if direction >= 0:\n",
    "                    group = int((direction + 15) / 25)\n",
    "                else:\n",
    "                    group = int((180 - np.abs(direction) + 15) / 25)\n",
    "                flags[h][w] = group + 1\n",
    "                if group not in groups:\n",
    "                    groups.append(group)\n",
    "                    groups.append(direction)\n",
    "    flags[flags > 6] = 1\n",
    "    return flags"
   ],
   "metadata": {
    "collapsed": false,
    "pycharm": {
     "name": "#%%\n"
    }
   }
  },
  {
   "cell_type": "code",
   "execution_count": 17,
   "outputs": [],
   "source": [
    "def count_by_boxes(flags, tau=48):\n",
    "    height = flags.shape[0]\n",
    "    width = flags.shape[1]\n",
    "    groups = np.zeros(shape=(tau, tau, 6), dtype=int)\n",
    "    dh = int(height/tau)\n",
    "    dw = int(width/tau)\n",
    "    for h in range(tau):\n",
    "        for w in range(tau):\n",
    "            start_h = h * dh\n",
    "            end_h = start_h + dh\n",
    "            strat_w = w * dw\n",
    "            end_w = strat_w + dw\n",
    "            slice = flags[start_h:end_h]\n",
    "            block = slice.T[strat_w:end_w].flatten()\n",
    "            for k in range(6):\n",
    "                groups[h][w][k] = np.count_nonzero(block == (k+1))\n",
    "    return groups"
   ],
   "metadata": {
    "collapsed": false,
    "pycharm": {
     "name": "#%%\n"
    }
   }
  },
  {
   "cell_type": "code",
   "execution_count": 18,
   "outputs": [],
   "source": [
    "def add_by_boxes(magnitude, flags, tau=48):\n",
    "    added = np.zeros(shape=(tau, tau, 6), dtype=float)\n",
    "    height = flags.shape[0]\n",
    "    width = flags.shape[1]\n",
    "    dh = int(height/tau)\n",
    "    dw = int(width/tau)\n",
    "    for h in range(tau):\n",
    "        for w in range(tau):\n",
    "            start_h = h * dh\n",
    "            end_h = start_h + dh\n",
    "            strat_w = w * dw\n",
    "            end_w = strat_w + dw\n",
    "            flag_slice = flags[start_h:end_h]\n",
    "            magnitude_slice = magnitude[start_h:end_h]\n",
    "            flag_block = flag_slice.transpose(1, 0)[strat_w:end_w].transpose(1, 0).flatten()\n",
    "            magnitude_block = magnitude_slice.transpose(1, 0)[strat_w:end_w].transpose(1, 0).flatten()\n",
    "            for k in range(6):\n",
    "                indices = np.where(flag_block == (k+1))\n",
    "                vals = np.take(magnitude_block, indices)\n",
    "                added[h][w][k] = np.sum(vals)\n",
    "    return added"
   ],
   "metadata": {
    "collapsed": false,
    "pycharm": {
     "name": "#%%\n"
    }
   }
  },
  {
   "cell_type": "code",
   "execution_count": 19,
   "outputs": [],
   "source": [
    "def graph_by_box(image, group_box, tau=48):\n",
    "    \"\"\"\n",
    "        Calculate the angels in prior for less computaiotn\n",
    "    \"\"\"\n",
    "    x_ratios = np.zeros(shape=(6,), dtype=float)\n",
    "    y_ratios = np.zeros(shape=(6,), dtype=float)\n",
    "    for k in range(6):\n",
    "        x_ratios[k] = np.cos(k * math.pi / 6)\n",
    "        y_ratios[k] = np.sin(k * math.pi / 6)\n",
    "\n",
    "    dw = int(image.shape[0] / tau)\n",
    "    dh = int(image.shape[1] / tau)\n",
    "    fig, ax = plt.subplots()\n",
    "    fig.set_size_inches(10, 20, forward=True)\n",
    "    ax.imshow(image, cmap='gray')\n",
    "    for i in range(tau):\n",
    "        for j in range(tau):\n",
    "            x_pos = i * dw + int(dw/2)\n",
    "            y_pos = j * dh + int(dh/2)\n",
    "            for k in range(6):\n",
    "                val = group_box[i][j][k]\n",
    "                g = group_box[i][j]\n",
    "                x_ratio = x_ratios[k]\n",
    "                y_ratio = y_ratios[k]\n",
    "                magnitude = val / max(np.sum(g), 1)\n",
    "                x_direct = x_ratio * magnitude\n",
    "                y_direct = y_ratio * magnitude\n",
    "                ax.quiver(y_pos, x_pos, x_direct, y_direct, width=0.002, scale=1, scale_units='inches', color='r')\n",
    "                ax.quiver(y_pos, x_pos, -x_direct, -y_direct, width=0.002,\n",
    "                          scale=1, scale_units='inches', color='r')\n",
    "    plt.show()\n",
    "    return None"
   ],
   "metadata": {
    "collapsed": false,
    "pycharm": {
     "name": "#%%\n"
    }
   }
  },
  {
   "cell_type": "code",
   "execution_count": 20,
   "outputs": [],
   "source": [
    "def graph_by_box_soft_max(image, grouped, tau=48):\n",
    "    shape = image.shape\n",
    "    dw = int(shape[0] / tau)\n",
    "    dh = int(shape[1] / tau)\n",
    "    fig, ax = plt.subplots()\n",
    "    fig.set_size_inches(10, 20, forward=True)\n",
    "    ax.imshow(image, cmap='gray')\n",
    "    for i in range(tau):\n",
    "        for j in range(tau):\n",
    "            x_pos = i * dw + int(dw/2)\n",
    "            y_pos = j * dh + int(dh/2)\n",
    "            for k in range(6):\n",
    "                val = grouped[i][j][k]\n",
    "                group = grouped[i][j]\n",
    "                normalized = softmax(group)\n",
    "                x_ratio = np.cos(k * math.pi / 6)\n",
    "                y_ratio = np.sin(k * math.pi / 6)\n",
    "                if val != 0:\n",
    "                    magnitude = normalized[k]\n",
    "                else:\n",
    "                    magnitude = 0\n",
    "                x_direct = x_ratio * magnitude\n",
    "                y_direct = y_ratio * magnitude\n",
    "                ax.quiver(y_pos, x_pos, x_direct, y_direct, width=0.002, scale=1, scale_units='inches', color='r')\n",
    "                ax.quiver(y_pos, x_pos, -x_direct, -y_direct, width=0.002,\n",
    "                          scale=1, scale_units='inches', color='r')\n",
    "    plt.show()\n",
    "    return None"
   ],
   "metadata": {
    "collapsed": false,
    "pycharm": {
     "name": "#%%\n"
    }
   }
  },
  {
   "cell_type": "code",
   "execution_count": 21,
   "outputs": [],
   "source": [
    "def l2_normalize(tensor, tau=48):\n",
    "    normalized_tensor =np.zeros(shape=(tensor.shape[0]-1, tensor.shape[1]-1, 6), dtype=float)\n",
    "    height = tensor.shape[0]\n",
    "    width = tensor.shape[1]\n",
    "    dh = int(height/tau)\n",
    "    dw = int(width/tau)\n",
    "    for h in range(tau-1):\n",
    "        for w in range(tau-1):\n",
    "            start_h = h * dh\n",
    "            end_h = start_h + dh * 2\n",
    "            strat_w = w * dw\n",
    "            end_w = strat_w + dw * 2\n",
    "            sliced = tensor[start_h:end_h]\n",
    "            block = sliced.transpose(1, 0, 2)[strat_w:end_w].transpose(1, 0, 2).transpose(2, 0, 1)\n",
    "            unnormalized_vector = np.sum(np.sum(block, axis=1), axis=1)\n",
    "            normalized = unnormalized_vector / np.sqrt(np.sum(unnormalized_vector * unnormalized_vector))\n",
    "            normalized_tensor[h][w]  = normalized\n",
    "    return normalized_tensor\n"
   ],
   "metadata": {
    "collapsed": false,
    "pycharm": {
     "name": "#%%\n"
    }
   }
  },
  {
   "cell_type": "code",
   "execution_count": 22,
   "outputs": [],
   "source": [
    "def graph_normalized(image, tensor, new_tau=48-1):\n",
    "    \"\"\"\n",
    "        Calculate the angels in prior for less computaiotn\n",
    "    \"\"\"\n",
    "    x_ratios = np.zeros(shape=(6,), dtype=float)\n",
    "    y_ratios = np.zeros(shape=(6,), dtype=float)\n",
    "    for k in range(6):\n",
    "        x_ratios[k] = np.cos(k * math.pi / 6)\n",
    "        y_ratios[k] = np.sin(k * math.pi / 6)\n",
    "\n",
    "    dw = int(image.shape[0] / new_tau)\n",
    "    dh = int(image.shape[1] / new_tau)\n",
    "    fig, ax = plt.subplots()\n",
    "    fig.set_size_inches(10, 20, forward=True)\n",
    "    ax.imshow(image, cmap='gray')\n",
    "    for h in range(new_tau):\n",
    "        for w in range(new_tau):\n",
    "            x_pos = h * dw + int(dw/2)\n",
    "            y_pos = w * dh + int(dh/2)\n",
    "            for k in range(6):\n",
    "                magnitude = tensor[h][w][k]\n",
    "                x_ratio = x_ratios[k]\n",
    "                y_ratio = y_ratios[k]\n",
    "                x_direct = x_ratio * magnitude\n",
    "                y_direct = y_ratio * magnitude\n",
    "                ax.quiver(y_pos, x_pos, x_direct, y_direct, width=0.002, scale=1, scale_units='inches', color='r')\n",
    "                ax.quiver(y_pos, x_pos, -x_direct, -y_direct, width=0.002,\n",
    "                          scale=1, scale_units='inches', color='r')\n",
    "    plt.show()\n",
    "    return None"
   ],
   "metadata": {
    "collapsed": false,
    "pycharm": {
     "name": "#%%\n"
    }
   }
  },
  {
   "cell_type": "markdown",
   "source": [
    "## Demonstration, Image 1"
   ],
   "metadata": {
    "collapsed": false,
    "pycharm": {
     "name": "#%% md\n"
    }
   }
  },
  {
   "cell_type": "code",
   "execution_count": 23,
   "outputs": [
    {
     "name": "stdout",
     "output_type": "stream",
     "text": [
      "(1200, 900, 2) (1200, 900)\n"
     ]
    },
    {
     "name": "stderr",
     "output_type": "stream",
     "text": [
      "/var/folders/54/6559nwv928s2mg9_mxm8dt0r0000gn/T/ipykernel_86524/2813269325.py:16: RuntimeWarning: invalid value encountered in true_divide\n",
      "  normalized = unnormalized_vector / np.sqrt(np.sum(unnormalized_vector * unnormalized_vector))\n"
     ]
    },
    {
     "data": {
      "text/plain": "<Figure size 640x480 with 1 Axes>",
      "image/png": "[encoded data removed]"
     },
     "metadata": {},
     "output_type": "display_data"
    }
   ],
   "source": [
    "threshold = 50\n",
    "tau = 30\n",
    "image = get_image('Q3/1.jpg')\n",
    "gradient, gradient_magnitude = get_gradient(image)\n",
    "flags = clip_and_count(gradient=gradient, threshold=threshold)\n",
    "grouped = count_by_boxes(flags)\n",
    "added = add_by_boxes(gradient_magnitude, flags)\n",
    "normalized = l2_normalize(added)"
   ],
   "metadata": {
    "collapsed": false,
    "pycharm": {
     "name": "#%%\n"
    }
   }
  },
  {
   "cell_type": "markdown",
   "source": [
    "## Image 1, approach 1"
   ],
   "metadata": {
    "collapsed": false,
    "pycharm": {
     "name": "#%% md\n"
    }
   }
  },
  {
   "cell_type": "code",
   "execution_count": null,
   "outputs": [],
   "source": [
    "graph_by_box(image, grouped)"
   ],
   "metadata": {
    "collapsed": false,
    "pycharm": {
     "name": "#%%\n",
     "is_executing": true
    }
   }
  },
  {
   "cell_type": "markdown",
   "source": [
    "## Image 1, approach 2"
   ],
   "metadata": {
    "collapsed": false,
    "pycharm": {
     "name": "#%% md\n"
    }
   }
  },
  {
   "cell_type": "code",
   "execution_count": null,
   "outputs": [],
   "source": [
    "graph_by_box(image, added)"
   ],
   "metadata": {
    "collapsed": false,
    "pycharm": {
     "name": "#%%\n",
     "is_executing": true
    }
   }
  },
  {
   "cell_type": "markdown",
   "source": [
    "## Image 1, L2 Normalize"
   ],
   "metadata": {
    "collapsed": false,
    "pycharm": {
     "name": "#%% md\n"
    }
   }
  },
  {
   "cell_type": "code",
   "execution_count": null,
   "outputs": [],
   "source": [
    "graph_normalized(image, normalized)\n",
    "np.savetxt(\"Image1.txt\", normalized, delimiter=\",\")"
   ],
   "metadata": {
    "collapsed": false,
    "pycharm": {
     "name": "#%%\n",
     "is_executing": true
    }
   }
  },
  {
   "cell_type": "markdown",
   "source": [
    "## Demonstration, image 2"
   ],
   "metadata": {
    "collapsed": false,
    "pycharm": {
     "name": "#%% md\n"
    }
   }
  },
  {
   "cell_type": "code",
   "execution_count": null,
   "outputs": [],
   "source": [
    "threshold = 75\n",
    "image = get_image('Q3/2.jpg')\n",
    "gradient, gradient_magnitude = get_gradient(image)\n",
    "flags = clip_and_count(gradient=gradient, threshold=threshold)\n",
    "grouped = count_by_boxes(flags)\n",
    "added = add_by_boxes(gradient_magnitude, flags)\n",
    "normalized = l2_normalize(added)"
   ],
   "metadata": {
    "collapsed": false,
    "pycharm": {
     "name": "#%%\n",
     "is_executing": true
    }
   }
  },
  {
   "cell_type": "markdown",
   "source": [
    "## Image 2, approach 1"
   ],
   "metadata": {
    "collapsed": false,
    "pycharm": {
     "name": "#%% md\n"
    }
   }
  },
  {
   "cell_type": "code",
   "execution_count": null,
   "outputs": [],
   "source": [
    "graph_by_box(image, grouped)"
   ],
   "metadata": {
    "collapsed": false,
    "pycharm": {
     "name": "#%%\n",
     "is_executing": true
    }
   }
  },
  {
   "cell_type": "markdown",
   "source": [
    "## Image 2, approach 2"
   ],
   "metadata": {
    "collapsed": false,
    "pycharm": {
     "name": "#%% md\n"
    }
   }
  },
  {
   "cell_type": "code",
   "execution_count": null,
   "outputs": [],
   "source": [
    "graph_by_box(image, added)"
   ],
   "metadata": {
    "collapsed": false,
    "pycharm": {
     "name": "#%%\n",
     "is_executing": true
    }
   }
  },
  {
   "cell_type": "markdown",
   "source": [
    "## Image 2, L2 Normalize"
   ],
   "metadata": {
    "collapsed": false,
    "pycharm": {
     "name": "#%% md\n"
    }
   }
  },
  {
   "cell_type": "code",
   "execution_count": null,
   "outputs": [],
   "source": [
    "graph_normalized(image, normalized)\n",
    "np.savetxt(\"Image2.txt\", normalized, delimiter=\",\")"
   ],
   "metadata": {
    "collapsed": false,
    "pycharm": {
     "name": "#%%\n",
     "is_executing": true
    }
   }
  },
  {
   "cell_type": "markdown",
   "source": [
    "## Demonstration, image 3"
   ],
   "metadata": {
    "collapsed": false,
    "pycharm": {
     "name": "#%% md\n"
    }
   }
  },
  {
   "cell_type": "code",
   "execution_count": null,
   "outputs": [],
   "source": [
    "threshold = 40\n",
    "tau = 30\n",
    "image = get_image('Q3/3.jpg')\n",
    "gradient, gradient_magnitude = get_gradient(image)\n",
    "flags = clip_and_count(gradient=gradient, threshold=threshold)\n",
    "grouped = count_by_boxes(flags)\n",
    "added = add_by_boxes(gradient_magnitude, flags)\n",
    "normalized = l2_normalize(added)"
   ],
   "metadata": {
    "collapsed": false,
    "pycharm": {
     "name": "#%%\n",
     "is_executing": true
    }
   }
  },
  {
   "cell_type": "markdown",
   "source": [
    "## Image 3, approach 1"
   ],
   "metadata": {
    "collapsed": false,
    "pycharm": {
     "name": "#%% md\n"
    }
   }
  },
  {
   "cell_type": "code",
   "execution_count": null,
   "outputs": [],
   "source": [
    "graph_by_box(image, grouped)"
   ],
   "metadata": {
    "collapsed": false,
    "pycharm": {
     "name": "#%%\n",
     "is_executing": true
    }
   }
  },
  {
   "cell_type": "markdown",
   "source": [
    "## Image 3, approach 2"
   ],
   "metadata": {
    "collapsed": false,
    "pycharm": {
     "name": "#%% md\n"
    }
   }
  },
  {
   "cell_type": "code",
   "execution_count": null,
   "outputs": [],
   "source": [
    "graph_by_box(image, added)"
   ],
   "metadata": {
    "collapsed": false,
    "pycharm": {
     "name": "#%%\n",
     "is_executing": true
    }
   }
  },
  {
   "cell_type": "markdown",
   "source": [
    "## Image 3, L2 Normalize"
   ],
   "metadata": {
    "collapsed": false,
    "pycharm": {
     "name": "#%% md\n"
    }
   }
  },
  {
   "cell_type": "code",
   "execution_count": null,
   "outputs": [],
   "source": [
    "graph_normalized(image, normalized)\n",
    "np.savetxt(\"Image3.txt\", normalized, delimiter=\",\")"
   ],
   "metadata": {
    "collapsed": false,
    "pycharm": {
     "name": "#%%\n",
     "is_executing": true
    }
   }
  },
  {
   "cell_type": "markdown",
   "source": [
    "## Image 1, approach 2"
   ],
   "metadata": {
    "collapsed": false
   }
  },
  {
   "cell_type": "code",
   "execution_count": null,
   "outputs": [],
   "source": [
    "graph_by_box(image, added)"
   ],
   "metadata": {
    "collapsed": false
   }
  },
  {
   "cell_type": "markdown",
   "source": [
    "## Image 1, L2 Normalize"
   ],
   "metadata": {
    "collapsed": false
   }
  },
  {
   "cell_type": "code",
   "execution_count": null,
   "outputs": [],
   "source": [
    "graph_normalized(image, normalized)"
   ],
   "metadata": {
    "collapsed": false
   }
  },
  {
   "cell_type": "markdown",
   "source": [
    "## Demonstration, image 2"
   ],
   "metadata": {
    "collapsed": false
   }
  },
  {
   "cell_type": "code",
   "execution_count": null,
   "outputs": [],
   "source": [
    "threshold = 75\n",
    "image = get_image('Q3/2.jpg')\n",
    "gradient, gradient_magnitude = get_gradient(image)\n",
    "flags = clip_and_count(gradient=gradient, threshold=threshold)\n",
    "grouped = count_by_boxes(flags)\n",
    "added = add_by_boxes(gradient_magnitude, flags)\n",
    "normalized = l2_normalize(added)"
   ],
   "metadata": {
    "collapsed": false
   }
  },
  {
   "cell_type": "markdown",
   "source": [
    "## Image 2, approach 1"
   ],
   "metadata": {
    "collapsed": false
   }
  },
  {
   "cell_type": "code",
   "execution_count": null,
   "outputs": [],
   "source": [
    "graph_by_box(image, grouped)"
   ],
   "metadata": {
    "collapsed": false
   }
  },
  {
   "cell_type": "markdown",
   "source": [
    "## Image 2, approach 2"
   ],
   "metadata": {
    "collapsed": false
   }
  },
  {
   "cell_type": "code",
   "execution_count": null,
   "outputs": [],
   "source": [
    "graph_by_box(image, added)"
   ],
   "metadata": {
    "collapsed": false
   }
  },
  {
   "cell_type": "markdown",
   "source": [
    "## Image 2, L2 Normalize"
   ],
   "metadata": {
    "collapsed": false
   }
  },
  {
   "cell_type": "code",
   "execution_count": null,
   "outputs": [],
   "source": [
    "graph_normalized(image, normalized)"
   ],
   "metadata": {
    "collapsed": false
   }
  },
  {
   "cell_type": "markdown",
   "source": [
    "## Demonstration, image 3"
   ],
   "metadata": {
    "collapsed": false
   }
  },
  {
   "cell_type": "code",
   "execution_count": null,
   "outputs": [],
   "source": [
    "threshold = 40\n",
    "tau = 30\n",
    "image = get_image('Q3/3.jpg')\n",
    "gradient, gradient_magnitude = get_gradient(image)\n",
    "flags = clip_and_count(gradient=gradient, threshold=threshold)\n",
    "grouped = count_by_boxes(flags)\n",
    "added = add_by_boxes(gradient_magnitude, flags)\n",
    "normalized = l2_normalize(added)"
   ],
   "metadata": {
    "collapsed": false
   }
  },
  {
   "cell_type": "markdown",
   "source": [
    "## Image 3, approach 1"
   ],
   "metadata": {
    "collapsed": false
   }
  },
  {
   "cell_type": "code",
   "execution_count": null,
   "outputs": [],
   "source": [
    "graph_by_box(image, grouped)"
   ],
   "metadata": {
    "collapsed": false
   }
  },
  {
   "cell_type": "markdown",
   "source": [
    "## Image 3, approach 2"
   ],
   "metadata": {
    "collapsed": false
   }
  },
  {
   "cell_type": "code",
   "execution_count": null,
   "outputs": [],
   "source": [
    "graph_by_box(image, added)"
   ],
   "metadata": {
    "collapsed": false
   }
  },
  {
   "cell_type": "markdown",
   "source": [
    "## Image 3, L2 Normalize"
   ],
   "metadata": {
    "collapsed": false
   }
  },
  {
   "cell_type": "code",
   "execution_count": null,
   "outputs": [],
   "source": [
    "graph_normalized(image, normalized)"
   ],
   "metadata": {
    "collapsed": false
   }
  }
 ],
 "metadata": {
  "kernelspec": {
   "display_name": "Python 3",
   "language": "python",
   "name": "python3"
  },
  "language_info": {
   "codemirror_mode": {
    "name": "ipython",
    "version": 2
   },
   "file_extension": ".py",
   "mimetype": "text/x-python",
   "name": "python",
   "nbconvert_exporter": "python",
   "pygments_lexer": "ipython2",
   "version": "2.7.6"
  }
 },
 "nbformat": 4,
 "nbformat_minor": 0
}